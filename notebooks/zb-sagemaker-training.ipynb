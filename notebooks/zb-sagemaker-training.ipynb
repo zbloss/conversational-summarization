{
 "cells": [
  {
   "cell_type": "code",
   "execution_count": 45,
   "metadata": {},
   "outputs": [],
   "source": [
    "import time\n",
    "import boto3\n",
    "import sagemaker\n",
    "from sagemaker.debugger import TensorBoardOutputConfig\n",
    "from sagemaker.pytorch import PyTorch"
   ]
  },
  {
   "cell_type": "code",
   "execution_count": 46,
   "metadata": {},
   "outputs": [],
   "source": [
    "role = sagemaker.get_execution_role()"
   ]
  },
  {
   "cell_type": "code",
   "execution_count": 47,
   "metadata": {},
   "outputs": [],
   "source": [
    "bucket = 'conversational-summarization'\n",
    "s3_output_location = f's3://{bucket}/output'\n",
    "start_time = time.strftime('%Y%m%dT%H%M%S')"
   ]
  },
  {
   "cell_type": "code",
   "execution_count": 48,
   "metadata": {},
   "outputs": [],
   "source": [
    "hparams = {\n",
    "    'batch-size': 8,\n",
    "    'learning-rate': 3e-05,\n",
    "    'model-path': 't5-small',\n",
    "    'job_name': 't5-small-{start_time}',\n",
    "    'epochs': 25,\n",
    "    'gpus': 1\n",
    "}"
   ]
  },
  {
   "cell_type": "code",
   "execution_count": 49,
   "metadata": {},
   "outputs": [],
   "source": [
    "metric_definitions = [\n",
    "    {'Name': 'train:loss', 'Regex': 'train_loss: (.*?);'},\n",
    "    {'Name': 'validation:loss', 'Regex': 'val_loss: (.*?);'},\n",
    "    {'Name': 'test:loss', 'Regex': 'test_loss: (.*?);'},\n",
    "    {'Name': 'current_epoch', 'Regex': 'current_epoch: (.*?);'},\n",
    "    {'Name': 'global_step', 'Regex': 'global_step: (.*?);'}\n",
    "]"
   ]
  },
  {
   "cell_type": "code",
   "execution_count": 50,
   "metadata": {},
   "outputs": [],
   "source": [
    "tensorboard_output_config = TensorBoardOutputConfig(\n",
    "    s3_output_path=f's3://{bucket}/tb_logs',\n",
    "    container_local_output_path='/opt/tb_logs'\n",
    ")"
   ]
  },
  {
   "cell_type": "code",
   "execution_count": null,
   "metadata": {},
   "outputs": [
    {
     "name": "stdout",
     "output_type": "stream",
     "text": [
      "text-performance-management-client-20201110T221759\n",
      "2020-11-10 22:17:59 Starting - Starting the training job...\n",
      "2020-11-10 22:18:01 Starting - Launching requested ML instances."
     ]
    }
   ],
   "source": [
    "estimator = PyTorch(\n",
    "    entry_point='train_t5_model.py',\n",
    "    source_dir='code',\n",
    "    role=role,\n",
    "    framework_version='1.6.0',\n",
    "    py_version='py3',\n",
    "    train_instance_count=1,\n",
    "    train_instance_type='ml.p3.2xlarge',\n",
    "    output_path=s3_output_location,\n",
    "    metric_definitions=metric_definitions,\n",
    "    hyperparameters=hparams,\n",
    "    tensorboard_output_config=tensorboard_output_config,\n",
    ")\n",
    "\n",
    "estimator.fit(inputs={\n",
    "    'train': f'{bucket}/data/processed/t5_train_dataset.pt',\n",
    "    'test': f'{bucket}/data/processed/t5_test_dataset.pt',\n",
    "    'val': f'{bucket}/data/processed/t5_val_dataset.pt',\n",
    "})"
   ]
  },
  {
   "cell_type": "code",
   "execution_count": null,
   "metadata": {},
   "outputs": [],
   "source": []
  },
  {
   "cell_type": "code",
   "execution_count": null,
   "metadata": {},
   "outputs": [],
   "source": []
  }
 ],
 "metadata": {
  "instance_type": "ml.t3.medium",
  "kernelspec": {
   "display_name": "Python 3 (Data Science)",
   "language": "python",
   "name": "python3__SAGEMAKER_INTERNAL__arn:aws:sagemaker:us-east-2:429704687514:image/datascience-1.0"
  },
  "language_info": {
   "codemirror_mode": {
    "name": "ipython",
    "version": 3
   },
   "file_extension": ".py",
   "mimetype": "text/x-python",
   "name": "python",
   "nbconvert_exporter": "python",
   "pygments_lexer": "ipython3",
   "version": "3.7.6"
  }
 },
 "nbformat": 4,
 "nbformat_minor": 4
}